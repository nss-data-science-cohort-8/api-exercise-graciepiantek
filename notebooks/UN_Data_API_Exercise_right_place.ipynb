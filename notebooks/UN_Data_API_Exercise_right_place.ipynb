{
 "cells": [
  {
   "cell_type": "code",
   "execution_count": 1,
   "id": "dbbd7cf4-bb31-447f-8287-cc3ecf48d1cc",
   "metadata": {},
   "outputs": [],
   "source": [
    "import pandas as pd\n",
    "import requests\n",
    "import json"
   ]
  },
  {
   "cell_type": "markdown",
   "id": "f43a7ec0-6841-4014-bd90-16dfe0b5ecc4",
   "metadata": {},
   "source": [
    "1. Use the API to get all available data for the _GDP per capita, PPP (constant 2017 international $)_ indicator.\n",
    " Hint: this indicator has code \"NY.GDP.PCAP.PP.KD\". Adjust the query parameters so that you can retrieve all available rows. Convert the results to a DataFrame."
   ]
  },
  {
   "cell_type": "code",
   "execution_count": 3,
   "id": "2a68fd1f-1bcc-4403-aa82-bc0b97ee5354",
   "metadata": {},
   "outputs": [],
   "source": [
    "endpoint = 'https://api.worldbank.org/v2/country/all/indicator/NY.GDP.PCAP.PP.KD?format=json'\n",
    "params = {'per_page': 20000}\n",
    "response = requests.get(endpoint,params)\n",
    "GDP_df = pd.json_normalize(response.json()[1])"
   ]
  },
  {
   "cell_type": "markdown",
   "id": "8b0733c2-8d03-47e9-b06a-eca49f63e83c",
   "metadata": {},
   "source": [
    "2. Now, use the API to get all available data for Life expectancy at birth, total (years). This indicator has code \"SP.DYN.LE00.IN\". Again, convert the results to a DataFrame."
   ]
  },
  {
   "cell_type": "code",
   "execution_count": 5,
   "id": "97370d0c-615e-4943-8786-2665dc872e7b",
   "metadata": {},
   "outputs": [],
   "source": [
    "endpoint = 'https://api.worldbank.org/v2/country/all/indicator/SP.DYN.LE00.IN?format=json'\n",
    "params = {'per_page': 20000}\n",
    "response = requests.get(endpoint,params)\n",
    "le_df = pd.json_normalize(response.json()[1])"
   ]
  },
  {
   "cell_type": "markdown",
   "id": "fc22155b-b0a6-4093-885c-ee23a1b7bee7",
   "metadata": {},
   "source": [
    "3. Merge the two results DataFrames together. You may want to rename or drop columns prior to merging."
   ]
  },
  {
   "cell_type": "code",
   "execution_count": 30,
   "id": "9c7333ef-158c-4130-8207-7c54135090d3",
   "metadata": {},
   "outputs": [],
   "source": [
    "uod_columns = ['unit','obs_status', 'decimal']\n",
    "                \n",
    "GDP_dropped = GDP_df.drop(columns = uod_columns).rename(columns = {'countryiso3code': 'Country Code', 'value': 'GDP Per Capita', 'date':'Year', 'indicator.id':'Indicator ID', 'indicator.value': 'Indicator Value', 'country.id': 'Country ID', 'country.value': 'Country Value'}) \n",
    "\n",
    "le_dropped = le_df.drop(columns = uod_columns).rename(columns = {'countryiso3code': 'Country Code', 'value': 'Life_Expectancy', 'date':'Year','indicator.id':'Indicator ID', 'indicator.value': 'Indicator Value' , 'country.id': 'Country ID', 'country.value': 'Country Value'})\n",
    "\n",
    "columns_merging = ['Country Code', 'Year', 'Indicator ID','Indicator Value', 'Country ID', 'Country Value']\n",
    "GDP_le_merged_df = pd.merge(GDP_dropped, le_dropped, on= columns_merging, how= 'outer')"
   ]
  },
  {
   "cell_type": "markdown",
   "id": "e4870cc3-3347-4678-81af-2594cbb71724",
   "metadata": {},
   "source": [
    "4.  You can also get more information about the available countries (region, capital city, income level classification, etc.) by using the Country API. Use this API to pull in all available data. Merge this with your other datasets. Use this to now remove the rows that correspond to regions and not countries."
   ]
  },
  {
   "cell_type": "code",
   "execution_count": null,
   "id": "bda17a47-323b-4c5f-a72d-a6e12a65b10e",
   "metadata": {},
   "outputs": [],
   "source": []
  },
  {
   "cell_type": "markdown",
   "id": "50db6fb6-2193-43f6-b00a-cfcefcdd7d56",
   "metadata": {},
   "source": [
    "\n",
    "**Bonus Questions:** After doing a basic request to get all records, you can attempt these exercises to get additional practice using query parameters.\n",
    "\n",
    "1. Adjust your request so that it returns data just for the United States.\n",
    "\n",
    "2. Adjust your request so that it returns data just for the United States for the year 2021.\n",
    "\n",
    "3. Adjust your request so that it returns data just for the United States for the years 2000 through 2021.\n",
    "\n",
    "4. Adjust your request so that it returns data for the United States and Canada for the years 2000 through 2021.\n",
    "\n",
    "5. If you haven't already done so and you would like to get some additional practice using loops, use the page parameter in order to pull all records. Do not change the value of the per_page parameter. You will likely need to utilize a loop of some kind in order to pull all records.\n",
    "\n",
    "6. The endpoint \"http://api.worldbank.org/v2/indicator\" will return information about all available indicators. See [Indicator API Queries](https://datahelpdesk.worldbank.org/knowledgebase/articles/898599-indicator-api-queries). Use this endpoint to find the code for the \"Public Expenditure on Education (% GDP)\" indicator."
   ]
  },
  {
   "cell_type": "code",
   "execution_count": null,
   "id": "2c65c2f5-8157-4be4-8a1b-536a55c27863",
   "metadata": {},
   "outputs": [],
   "source": []
  }
 ],
 "metadata": {
  "kernelspec": {
   "display_name": "Python 3 (ipykernel)",
   "language": "python",
   "name": "python3"
  },
  "language_info": {
   "codemirror_mode": {
    "name": "ipython",
    "version": 3
   },
   "file_extension": ".py",
   "mimetype": "text/x-python",
   "name": "python",
   "nbconvert_exporter": "python",
   "pygments_lexer": "ipython3",
   "version": "3.12.4"
  }
 },
 "nbformat": 4,
 "nbformat_minor": 5
}
