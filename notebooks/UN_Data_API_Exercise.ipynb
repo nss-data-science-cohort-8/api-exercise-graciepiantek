{
 "cells": [
  {
   "cell_type": "code",
   "execution_count": 1,
   "id": "dbbd7cf4-bb31-447f-8287-cc3ecf48d1cc",
   "metadata": {},
   "outputs": [],
   "source": [
    "import pandas as pd\n",
    "import requests\n",
    "import json"
   ]
  },
  {
   "cell_type": "markdown",
   "id": "f43a7ec0-6841-4014-bd90-16dfe0b5ecc4",
   "metadata": {},
   "source": [
    "1. Use the API to get all available data for the _GDP per capita, PPP (constant 2017 international $)_ indicator.\n",
    " Hint: this indicator has code \"NY.GDP.PCAP.PP.KD\". Adjust the query parameters so that you can retrieve all available rows. Convert the results to a DataFrame."
   ]
  },
  {
   "cell_type": "code",
   "execution_count": 26,
   "id": "2a68fd1f-1bcc-4403-aa82-bc0b97ee5354",
   "metadata": {},
   "outputs": [],
   "source": [
    "endpoint = 'https://api.worldbank.org/v2/country/all/indicator/\"NY.GDP.PCAP.PP.KD\"'\n",
    "response = requests.get(endpoint)\n",
    "#response.json\n",
    "#pd.read_json(endpoint)"
   ]
  },
  {
   "cell_type": "code",
   "execution_count": null,
   "id": "bb1d92b0-6006-474e-8861-58d2de9cf9d7",
   "metadata": {},
   "outputs": [],
   "source": []
  }
 ],
 "metadata": {
  "kernelspec": {
   "display_name": "Python 3 (ipykernel)",
   "language": "python",
   "name": "python3"
  },
  "language_info": {
   "codemirror_mode": {
    "name": "ipython",
    "version": 3
   },
   "file_extension": ".py",
   "mimetype": "text/x-python",
   "name": "python",
   "nbconvert_exporter": "python",
   "pygments_lexer": "ipython3",
   "version": "3.12.4"
  }
 },
 "nbformat": 4,
 "nbformat_minor": 5
}
